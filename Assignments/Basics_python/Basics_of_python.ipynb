{
 "cells": [
  {
   "cell_type": "code",
   "execution_count": 2,
   "id": "52ea7554-3dc7-43c6-917e-055a70443466",
   "metadata": {},
   "outputs": [],
   "source": [
    "import pandas as pd\n",
    "import numpy as np \n",
    "import math\n"
   ]
  },
  {
   "cell_type": "markdown",
   "id": "4e73a471-8b4f-4329-a879-04a5f337d2f8",
   "metadata": {},
   "source": [
    "__Exercise 1: Prime Numbers__\n",
    "\n",
    "Write a Python program that checks whether a given number is prime or not. A prime number is a natural number greater than 1 that has no positive divisors other than 1 and itself.\n"
   ]
  },
  {
   "cell_type": "code",
   "execution_count": 3,
   "id": "736feba3-61a6-497c-8b2d-03c641e5dc1f",
   "metadata": {},
   "outputs": [],
   "source": [
    "def is_prime(x):\n",
    "    if x <= 1:\n",
    "        return \"not prime\"\n",
    "\n",
    "    if x == 2 or x == 3:\n",
    "        return \"Prime\"\n",
    "\n",
    "    if x % 2 == 0 or x % 3 == 0:\n",
    "        return \"not prime\"\n",
    "\n",
    "    i = 5\n",
    "    while i <= math.sqrt(x):\n",
    "        if x % i == 0 or x % (i + 2) == 0:\n",
    "            return \"Not prime\"\n",
    "        i += 6\n",
    "    \n",
    "    return \"Prime\"\n"
   ]
  },
  {
   "cell_type": "code",
   "execution_count": 5,
   "id": "679fe242-3abc-4cb9-b98f-5bb84b55265d",
   "metadata": {},
   "outputs": [
    {
     "name": "stdin",
     "output_type": "stream",
     "text": [
      "enter a number 67\n"
     ]
    },
    {
     "data": {
      "text/plain": [
       "'Prime'"
      ]
     },
     "execution_count": 5,
     "metadata": {},
     "output_type": "execute_result"
    }
   ],
   "source": [
    "x = int(input(\"enter a number\"))\n",
    "is_prime(x)"
   ]
  },
  {
   "cell_type": "raw",
   "id": "c8bc1b82-219a-4184-b075-f453bbba9ece",
   "metadata": {},
   "source": []
  },
  {
   "cell_type": "markdown",
   "id": "6332cd4e-1a3f-4852-b268-405018bc7728",
   "metadata": {},
   "source": [
    "__Exercise 2: Product of Random Numbers__\n",
    "\n",
    "Develop a Python program that generates two random numbers and asks the user to enter the product of these numbers. The program should then check if the user's answer is correct and display an appropriate message.\n"
   ]
  },
  {
   "cell_type": "code",
   "execution_count": 6,
   "id": "8aa5c989-f10b-44a0-aa32-16f3894a604f",
   "metadata": {},
   "outputs": [],
   "source": [
    "def check(expected_product):\n",
    "    if (expected_product == actual_product):\n",
    "        print(\"The answer is correct\")\n",
    "    else:\n",
    "        print(\"The answer is wrong\")"
   ]
  },
  {
   "cell_type": "code",
   "execution_count": 7,
   "id": "0546cdbe-b1d2-4f4b-93da-77ce11f30348",
   "metadata": {},
   "outputs": [
    {
     "name": "stdout",
     "output_type": "stream",
     "text": [
      "9 2\n"
     ]
    },
    {
     "name": "stdin",
     "output_type": "stream",
     "text": [
      "Enter the product of the above two numbers 18\n"
     ]
    },
    {
     "name": "stdout",
     "output_type": "stream",
     "text": [
      "The answer is correct\n"
     ]
    }
   ],
   "source": [
    "import random\n",
    "x = random.randint(1,10)\n",
    "y = random.randint(1,10)\n",
    "print(x,y)\n",
    "actual_product = x * y;\n",
    "expected_product = int(input(\"Enter the product of the above two numbers\"))\n",
    "check(expected_product)"
   ]
  },
  {
   "cell_type": "raw",
   "id": "ead0bf9f-ec34-4274-95fa-ca525c94c918",
   "metadata": {},
   "source": []
  },
  {
   "cell_type": "markdown",
   "id": "5dc9ed87-ccb9-412b-ad81-8c2df9ab13b1",
   "metadata": {},
   "source": [
    "__Exercise 3: Squares of Even/Odd Numbers__\n",
    "\n",
    "Create a Python script that prints the squares of all even or odd numbers within the range of 100 to 200. Choose either even or odd numbers and document your choice in the code.\n"
   ]
  },
  {
   "cell_type": "code",
   "execution_count": 8,
   "id": "879a4884-c72e-497b-8f85-a62bd9dd6d19",
   "metadata": {},
   "outputs": [
    {
     "name": "stdout",
     "output_type": "stream",
     "text": [
      "[10000, 10404, 10816, 11236, 11664, 12100, 12544, 12996, 13456, 13924, 14400, 14884, 15376, 15876, 16384, 16900, 17424, 17956, 18496, 19044, 19600, 20164, 20736, 21316, 21904, 22500, 23104, 23716, 24336, 24964, 25600, 26244, 26896, 27556, 28224, 28900, 29584, 30276, 30976, 31684, 32400, 33124, 33856, 34596, 35344, 36100, 36864, 37636, 38416, 39204, 40000]\n"
     ]
    }
   ],
   "source": [
    "x = list(range(100,201))\n",
    "lis = []\n",
    "for i in range(len(x)):\n",
    "    if x[i] % 2 == 0:\n",
    "        a = x[i] * x[i]\n",
    "        lis.append(a)\n",
    "print(lis)"
   ]
  },
  {
   "cell_type": "raw",
   "id": "c0e4ff72-bf03-4514-9b7d-d6c1a506d121",
   "metadata": {},
   "source": []
  },
  {
   "cell_type": "markdown",
   "id": "5d18e1ea-1ee8-4e2d-8c4d-e358f269e065",
   "metadata": {},
   "source": [
    "__Exercise 4: Word counter__\n",
    "write a program to count the number of words in a given text.\n"
   ]
  },
  {
   "cell_type": "code",
   "execution_count": 13,
   "id": "c74808f2-256a-4c8d-9a9e-06605768cb90",
   "metadata": {},
   "outputs": [],
   "source": [
    "def wordcount(text):\n",
    "    words = text.split()\n",
    "    word_count = {}\n",
    "    for word in words:\n",
    "        word_count[word] = word_count.get(word, 0) +1\n",
    "        \n",
    "    for word, count in word_count.items():\n",
    "        print(f\"{word}: {count}\")"
   ]
  },
  {
   "cell_type": "code",
   "execution_count": 15,
   "id": "402258c1-af88-465c-a130-253ca07a25dc",
   "metadata": {},
   "outputs": [
    {
     "name": "stdin",
     "output_type": "stream",
     "text": [
      "Enter a text:  This is a sample text.\n"
     ]
    },
    {
     "name": "stdout",
     "output_type": "stream",
     "text": [
      "This: 1\n",
      "is: 1\n",
      "a: 1\n",
      "sample: 1\n",
      "text.: 1\n"
     ]
    }
   ],
   "source": [
    "text = input(\"Enter a text: \")\n",
    "wordcount(text)"
   ]
  },
  {
   "cell_type": "raw",
   "id": "749d894b-7ae7-45fb-814a-d9935c916e59",
   "metadata": {},
   "source": []
  },
  {
   "cell_type": "markdown",
   "id": "d673d808-d322-4ebd-8454-e8c055669df7",
   "metadata": {},
   "source": [
    "__Exercise 5: Check for Palindrome__"
   ]
  },
  {
   "cell_type": "code",
   "execution_count": 16,
   "id": "871e2941-05f7-47c3-a96e-321f29ec4545",
   "metadata": {},
   "outputs": [],
   "source": [
    "def palindrome(text):\n",
    "    if text == text[::-1]:\n",
    "        print(\"The text is a Palindorme\")\n",
    "    else:\n",
    "        print(\"The text is not a Palindrome\")\n"
   ]
  },
  {
   "cell_type": "code",
   "execution_count": 18,
   "id": "cf66825e-da43-4f53-9282-677472784761",
   "metadata": {},
   "outputs": [
    {
     "name": "stdin",
     "output_type": "stream",
     "text": [
      "Enter a text:  antman\n"
     ]
    },
    {
     "name": "stdout",
     "output_type": "stream",
     "text": [
      "The text is not a Palindrome\n"
     ]
    }
   ],
   "source": [
    "text = input(\"Enter a text: \")\n",
    "palindrome(text)"
   ]
  },
  {
   "cell_type": "code",
   "execution_count": null,
   "id": "e5bdac73-d343-4ef6-93f4-8908fee94e9f",
   "metadata": {},
   "outputs": [],
   "source": []
  }
 ],
 "metadata": {
  "kernelspec": {
   "display_name": "Python 3 (ipykernel)",
   "language": "python",
   "name": "python3"
  },
  "language_info": {
   "codemirror_mode": {
    "name": "ipython",
    "version": 3
   },
   "file_extension": ".py",
   "mimetype": "text/x-python",
   "name": "python",
   "nbconvert_exporter": "python",
   "pygments_lexer": "ipython3",
   "version": "3.12.2"
  }
 },
 "nbformat": 4,
 "nbformat_minor": 5
}
