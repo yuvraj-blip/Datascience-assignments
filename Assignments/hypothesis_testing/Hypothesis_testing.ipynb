{
 "cells": [
  {
   "cell_type": "markdown",
   "id": "e58f384b-e8e4-4bd7-a9cd-6fdf1ab67703",
   "metadata": {},
   "source": [
    "__Data Provided:__\n",
    "•\tThe theoretical weekly operating cost model: W = $1,000 + $5X\n",
    "•\tSample of 25 restaurants with a mean weekly cost of Rs. 3,050\n",
    "•\tNumber of units produced in a week (X) follows a normal distribution with a mean (μ) of 600 units and a standard deviation (σ) of 25 units\n"
   ]
  },
  {
   "cell_type": "markdown",
   "id": "f753619d-8157-41fe-a7c9-18a1dd693689",
   "metadata": {},
   "source": [
    "__1. State the Hypotheses statement:__\n",
    "\n",
    "H0 = The cost model is accurate, it follows the equation W = $1,000 + $5X\n",
    "\n",
    "H1 = The cost model is not accurate, it does't follow the current equation."
   ]
  },
  {
   "cell_type": "markdown",
   "id": "c11597a2-b1df-4065-b762-753680a835b4",
   "metadata": {},
   "source": [
    "____2. Calculate the Test Statistic:____"
   ]
  },
  {
   "cell_type": "code",
   "execution_count": 5,
   "id": "c2b71718-66c2-4096-96e3-43f6653e4dc5",
   "metadata": {},
   "outputs": [],
   "source": [
    "import math\n",
    "sample_mean = 3050\n",
    "assumed_mean = 1000 + 5 * 600\n",
    "std = 125\n",
    "n = 25"
   ]
  },
  {
   "cell_type": "code",
   "execution_count": 6,
   "id": "1608850d-f06a-4adc-a3b0-40055ea2f097",
   "metadata": {},
   "outputs": [
    {
     "data": {
      "text/plain": [
       "-38.0"
      ]
     },
     "execution_count": 6,
     "metadata": {},
     "output_type": "execute_result"
    }
   ],
   "source": [
    "t_test = (sample_mean - assumed_mean)/(std/math.sqrt(n))\n",
    "t_test"
   ]
  },
  {
   "cell_type": "raw",
   "id": "3821538d-c914-4f38-a8e2-482be5a69afc",
   "metadata": {},
   "source": []
  },
  {
   "cell_type": "markdown",
   "id": "4c42197e-aef2-4aee-8448-da6afb9d12ec",
   "metadata": {},
   "source": [
    "__3. Determine the Critical Value:__\n",
    "\n",
    "alpha = 0.05 \n",
    "\n",
    "z score = -1.645 (lower tail test)\n",
    "\n",
    "since the t test value is less than the z score we reject the null hupothesis(H0) and conclude that the current model is inaccurate and produces inefficient results. "
   ]
  },
  {
   "cell_type": "markdown",
   "id": "580b03c4-605d-4458-b13c-6c45a4016839",
   "metadata": {},
   "source": [
    "__CONCLUSION__\n",
    "\n",
    "There is a strong evidence that proves the restaurant owners claims as the t test value -38 is very less than the critical value of -1.64. \n",
    "\n",
    "This means that the Bombay hospitality Ltd. should reconside their operating cost model. \n",
    "\n",
    "The claims of the restaurant owners seems to be true and we conclude that the cost model is not accurate and it does't follow the current equation."
   ]
  },
  {
   "cell_type": "raw",
   "id": "e1dac22b-d800-420b-beb3-454c02697f41",
   "metadata": {},
   "source": []
  },
  {
   "cell_type": "markdown",
   "id": "b3fb9ed9-479d-4531-9aa0-9412c76ebd31",
   "metadata": {},
   "source": [
    "__CHI SQUARE TEST__"
   ]
  },
  {
   "cell_type": "markdown",
   "id": "fba53ac8-16cf-4c6d-9e4d-6d5f54070fd3",
   "metadata": {},
   "source": [
    "*1. State the Hypotheses:*\n",
    "\n",
    "   H0 = there's a significant association between the type of smart home device purchased (Smart Thermostats vs. Smart Lights) and the customer satisfaction level.\n",
    "   \n",
    "   H1 = there's no  significant association between the type of smart home device purchased (Smart Thermostats vs. Smart Lights) and the customer satisfaction level."
   ]
  },
  {
   "cell_type": "markdown",
   "id": "76928fb8-f45d-4319-8853-509e317e780b",
   "metadata": {},
   "source": [
    "__2. Compute the Chi-Square Statistic:__"
   ]
  },
  {
   "cell_type": "code",
   "execution_count": 3,
   "id": "43194597-575b-4db6-9796-17020584538b",
   "metadata": {},
   "outputs": [],
   "source": [
    "import pandas as pd"
   ]
  },
  {
   "cell_type": "code",
   "execution_count": 11,
   "id": "5357a06b-6f72-4550-a9c5-cb51b03bb21c",
   "metadata": {},
   "outputs": [
    {
     "data": {
      "text/html": [
       "<div>\n",
       "<style scoped>\n",
       "    .dataframe tbody tr th:only-of-type {\n",
       "        vertical-align: middle;\n",
       "    }\n",
       "\n",
       "    .dataframe tbody tr th {\n",
       "        vertical-align: top;\n",
       "    }\n",
       "\n",
       "    .dataframe thead th {\n",
       "        text-align: right;\n",
       "    }\n",
       "</style>\n",
       "<table border=\"1\" class=\"dataframe\">\n",
       "  <thead>\n",
       "    <tr style=\"text-align: right;\">\n",
       "      <th></th>\n",
       "      <th>Satisfaction</th>\n",
       "      <th>SmartThermostat</th>\n",
       "      <th>SmartLight</th>\n",
       "      <th>Total</th>\n",
       "      <th>Expected (Smart thermostat)</th>\n",
       "      <th>Expected(Smart light)</th>\n",
       "      <th>Chi square (Smart thermostat)</th>\n",
       "      <th>chicsqare (Smart light)</th>\n",
       "    </tr>\n",
       "  </thead>\n",
       "  <tbody>\n",
       "    <tr>\n",
       "      <th>0</th>\n",
       "      <td>VerySatisfied</td>\n",
       "      <td>50.0</td>\n",
       "      <td>70.0</td>\n",
       "      <td>120.0</td>\n",
       "      <td>48.0</td>\n",
       "      <td>72</td>\n",
       "      <td>0.083333</td>\n",
       "      <td>0.055556</td>\n",
       "    </tr>\n",
       "    <tr>\n",
       "      <th>1</th>\n",
       "      <td>Satisfied</td>\n",
       "      <td>80.0</td>\n",
       "      <td>100.0</td>\n",
       "      <td>180.0</td>\n",
       "      <td>72.0</td>\n",
       "      <td>108</td>\n",
       "      <td>0.888889</td>\n",
       "      <td>0.592593</td>\n",
       "    </tr>\n",
       "    <tr>\n",
       "      <th>2</th>\n",
       "      <td>Neutral</td>\n",
       "      <td>60.0</td>\n",
       "      <td>90.0</td>\n",
       "      <td>150.0</td>\n",
       "      <td>60.0</td>\n",
       "      <td>90</td>\n",
       "      <td>0.000000</td>\n",
       "      <td>0.000000</td>\n",
       "    </tr>\n",
       "    <tr>\n",
       "      <th>3</th>\n",
       "      <td>Unsatisfied</td>\n",
       "      <td>30.0</td>\n",
       "      <td>50.0</td>\n",
       "      <td>80.0</td>\n",
       "      <td>32.0</td>\n",
       "      <td>48</td>\n",
       "      <td>0.125000</td>\n",
       "      <td>0.083333</td>\n",
       "    </tr>\n",
       "    <tr>\n",
       "      <th>4</th>\n",
       "      <td>VeryUnsatisfied</td>\n",
       "      <td>20.0</td>\n",
       "      <td>50.0</td>\n",
       "      <td>70.0</td>\n",
       "      <td>28.0</td>\n",
       "      <td>42</td>\n",
       "      <td>2.285714</td>\n",
       "      <td>1.523810</td>\n",
       "    </tr>\n",
       "    <tr>\n",
       "      <th>5</th>\n",
       "      <td>Total</td>\n",
       "      <td>240.0</td>\n",
       "      <td>360.0</td>\n",
       "      <td>600.0</td>\n",
       "      <td>NaN</td>\n",
       "      <td>NaN</td>\n",
       "      <td>NaN</td>\n",
       "      <td>NaN</td>\n",
       "    </tr>\n",
       "    <tr>\n",
       "      <th>6</th>\n",
       "      <td>NaN</td>\n",
       "      <td>NaN</td>\n",
       "      <td>NaN</td>\n",
       "      <td>NaN</td>\n",
       "      <td>NaN</td>\n",
       "      <td>Chi square statistic value</td>\n",
       "      <td>5.638228</td>\n",
       "      <td>NaN</td>\n",
       "    </tr>\n",
       "  </tbody>\n",
       "</table>\n",
       "</div>"
      ],
      "text/plain": [
       "      Satisfaction  SmartThermostat  SmartLight  Total  \\\n",
       "0    VerySatisfied             50.0        70.0  120.0   \n",
       "1        Satisfied             80.0       100.0  180.0   \n",
       "2          Neutral             60.0        90.0  150.0   \n",
       "3      Unsatisfied             30.0        50.0   80.0   \n",
       "4  VeryUnsatisfied             20.0        50.0   70.0   \n",
       "5            Total            240.0       360.0  600.0   \n",
       "6              NaN              NaN         NaN    NaN   \n",
       "\n",
       "   Expected (Smart thermostat)        Expected(Smart light)  \\\n",
       "0                         48.0                           72   \n",
       "1                         72.0                          108   \n",
       "2                         60.0                           90   \n",
       "3                         32.0                           48   \n",
       "4                         28.0                           42   \n",
       "5                          NaN                          NaN   \n",
       "6                          NaN  Chi square statistic value    \n",
       "\n",
       "   Chi square (Smart thermostat)  chicsqare (Smart light)  \n",
       "0                       0.083333                 0.055556  \n",
       "1                       0.888889                 0.592593  \n",
       "2                       0.000000                 0.000000  \n",
       "3                       0.125000                 0.083333  \n",
       "4                       2.285714                 1.523810  \n",
       "5                            NaN                      NaN  \n",
       "6                       5.638228                      NaN  "
      ]
     },
     "execution_count": 11,
     "metadata": {},
     "output_type": "execute_result"
    }
   ],
   "source": [
    "data = pd.read_csv(r\"C:\\Users\\KIIT\\Downloads\\data1.csv\")\n",
    "data"
   ]
  },
  {
   "cell_type": "markdown",
   "id": "ea3fb0d6-d732-46fa-971b-bf215076ea00",
   "metadata": {},
   "source": [
    "From the above data we can see that the value of chi-sqaure statistic is 5.63(approx). \n"
   ]
  },
  {
   "cell_type": "markdown",
   "id": "b74ca101-f73f-43ed-be6e-1b2f11e59942",
   "metadata": {},
   "source": [
    "__3. Determine the Critical Value:__\n",
    "\n",
    "Alpha = 0.05,\n",
    "degree of freedom = 5-1 = 4\n",
    "\n",
    "using the above values from the Chi- square table we get the critical value as 9.488."
   ]
  },
  {
   "cell_type": "markdown",
   "id": "61a22ccd-dc5d-49aa-b573-b8cd5a4632b3",
   "metadata": {},
   "source": [
    "__Conclusion__\n",
    "\n",
    "Our calculated chi - square statistic is 5.638 and our critical value is 9.488\n",
    "\n",
    "since 5.638 < 9.488, we fail to reject the null hypothesis (H0) and conclude that there's a significant association between the type of smart home device purchased (Smart Thermostats vs. Smart Lights) and the customer satisfaction level."
   ]
  },
  {
   "cell_type": "code",
   "execution_count": null,
   "id": "574126d5-3d9f-445c-a416-bba60033ea7c",
   "metadata": {},
   "outputs": [],
   "source": []
  }
 ],
 "metadata": {
  "kernelspec": {
   "display_name": "Python 3 (ipykernel)",
   "language": "python",
   "name": "python3"
  },
  "language_info": {
   "codemirror_mode": {
    "name": "ipython",
    "version": 3
   },
   "file_extension": ".py",
   "mimetype": "text/x-python",
   "name": "python",
   "nbconvert_exporter": "python",
   "pygments_lexer": "ipython3",
   "version": "3.12.2"
  }
 },
 "nbformat": 4,
 "nbformat_minor": 5
}
